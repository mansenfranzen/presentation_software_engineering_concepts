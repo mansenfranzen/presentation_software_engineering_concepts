{
 "cells": [
  {
   "cell_type": "markdown",
   "id": "ec3dd46a",
   "metadata": {
    "slideshow": {
     "slide_type": "slide"
    }
   },
   "source": [
    "# Learning software engineering concepts \n",
    "\n",
    "## by maintaining an open source project  \n",
    "\n",
    "### namely `autodoc_pydantic`"
   ]
  },
  {
   "cell_type": "markdown",
   "id": "373ce5da",
   "metadata": {
    "slideshow": {
     "slide_type": "subslide"
    }
   },
   "source": [
    "## Agenda - General\n",
    "\n",
    "- Why **Software Engineering**?\n",
    "- Why **Open Source**?\n",
    "- Why **Python**?\n",
    "- Why **Pydantic**?\n",
    "- Why **Sphinx**?\n",
    "- Why **Autodoc Pydantic**?"
   ]
  },
  {
   "cell_type": "markdown",
   "id": "b8469171",
   "metadata": {
    "slideshow": {
     "slide_type": "subslide"
    }
   },
   "source": [
    "## Agenda - Concepts\n",
    "\n",
    "- Why **Best Practices**?\n",
    "- Why **Documentation**?\n",
    "- Why **Version Control System**?\n",
    "- Why **Testing**?\n",
    "- Why **Continuous Integration**?\n",
    "- Why **Continuous Deployment**?\n",
    "- Why **Semantic Versioning**?\n",
    "- Why **Changelog**?"
   ]
  },
  {
   "cell_type": "markdown",
   "id": "8684a42e",
   "metadata": {
    "slideshow": {
     "slide_type": "subslide"
    }
   },
   "source": [
    "# Why \"Why\"?"
   ]
  },
  {
   "cell_type": "markdown",
   "id": "749b0d84",
   "metadata": {
    "slideshow": {
     "slide_type": "fragment"
    }
   },
   "source": [
    "- non-technical talk about technical things for non-technical audience\n",
    "- focus on actual problem being solved while hiding technical details\n",
    "- emphasize the added value of each concept"
   ]
  },
  {
   "cell_type": "markdown",
   "id": "fa635888",
   "metadata": {
    "slideshow": {
     "slide_type": "slide"
    }
   },
   "source": [
    "# Why \"Software Engineering\"?"
   ]
  },
  {
   "cell_type": "markdown",
   "id": "4097ae9f",
   "metadata": {
    "slideshow": {
     "slide_type": "subslide"
    }
   },
   "source": [
    "> Software engineering is a **systematic** engineering **approach** to software development.\n",
    "> \n",
    "> ... principles of software engineering to **design, develop, maintain, test, and evaluate computer software**."
   ]
  },
  {
   "cell_type": "markdown",
   "id": "cb2f2216",
   "metadata": {
    "slideshow": {
     "slide_type": "slide"
    }
   },
   "source": [
    "# Why \"Open Source\"?"
   ]
  },
  {
   "cell_type": "markdown",
   "id": "c4de354f",
   "metadata": {
    "slideshow": {
     "slide_type": "subslide"
    }
   },
   "source": [
    "## ideologically\n",
    "\n",
    "- belief in equal distribution of ressources\n",
    "- knowledge and tools as a shared, common good"
   ]
  },
  {
   "cell_type": "markdown",
   "id": "9da43bdd",
   "metadata": {
    "slideshow": {
     "slide_type": "subslide"
    }
   },
   "source": [
    "[Standing on the shoulders of giants](https://en.wikipedia.org/wiki/Standing_on_the_shoulders_of_giants) - Isaac Newton\n",
    "\n",
    "**If I have seen further it is by standing on the shoulders of Giants.**"
   ]
  },
  {
   "cell_type": "markdown",
   "id": "ae38e2bf",
   "metadata": {
    "slideshow": {
     "slide_type": "subslide"
    }
   },
   "source": [
    "<img src=\"https://upload.wikimedia.org/wikipedia/commons/thumb/4/4a/Library_of_Congress%2C_Rosenwald_4%2C_Bl._5r.jpg/800px-Library_of_Congress%2C_Rosenwald_4%2C_Bl._5r.jpg\" alt=\"drawing\" width=\"400\"/>"
   ]
  },
  {
   "cell_type": "markdown",
   "id": "35e6d994",
   "metadata": {
    "slideshow": {
     "slide_type": "subslide"
    }
   },
   "source": [
    "[Wisdom of the Crowd](https://en.wikipedia.org/wiki/Wisdom_of_the_crowd) - Aristotle\n",
    "\n",
    "**It is possible that the many, though not individually good men, yet when they come together may be better, not individually but collectively, than those who are so, just as public dinners to which many contribute are better than those supplied at one man's cost.**"
   ]
  },
  {
   "cell_type": "markdown",
   "id": "86e6c1fe",
   "metadata": {
    "slideshow": {
     "slide_type": "subslide"
    }
   },
   "source": [
    "## practically\n",
    "\n",
    "- provides a great learning possibility\n",
    "- allows to share and sustain accomplished work and efforts\n",
    "- be part of a greater good"
   ]
  },
  {
   "cell_type": "markdown",
   "id": "21f65147",
   "metadata": {
    "slideshow": {
     "slide_type": "slide"
    }
   },
   "source": [
    "# Why \"Python\"?"
   ]
  },
  {
   "cell_type": "markdown",
   "id": "da0fa955",
   "metadata": {
    "slideshow": {
     "slide_type": "subslide"
    }
   },
   "source": [
    "- general purpose language\n",
    "- easy to learn\n",
    "- quick prototyping\n",
    "- great ecosystem\n",
    "- **Second best language for everything**"
   ]
  },
  {
   "cell_type": "markdown",
   "id": "4e36e16f",
   "metadata": {
    "slideshow": {
     "slide_type": "fragment"
    }
   },
   "source": [
    "**-> increasing [popularity](https://statisticstimes.com/tech/top-computer-languages.php)**"
   ]
  },
  {
   "cell_type": "markdown",
   "id": "ea7e5d63",
   "metadata": {
    "slideshow": {
     "slide_type": "subslide"
    }
   },
   "source": [
    "### Hello World\n",
    "\n",
    "```python\n",
    "print(\"Hello World\")\n",
    "```"
   ]
  },
  {
   "cell_type": "markdown",
   "id": "64b2d56d",
   "metadata": {
    "slideshow": {
     "slide_type": "subslide"
    }
   },
   "source": [
    "![docs](https://preview.redd.it/ry69u7oa1rsy.png?auto=webp&s=3b8e77878adbecd18af92c357cdfc76f50af7083)"
   ]
  },
  {
   "cell_type": "markdown",
   "id": "bea8a625",
   "metadata": {
    "slideshow": {
     "slide_type": "slide"
    }
   },
   "source": [
    "# Why \"Pydantic\"?"
   ]
  },
  {
   "cell_type": "markdown",
   "id": "c5bec428",
   "metadata": {
    "slideshow": {
     "slide_type": "subslide"
    }
   },
   "source": [
    "- optional, external package which is not part of core python\n",
    "- provides data validation and settings management via type enforcement"
   ]
  },
  {
   "cell_type": "markdown",
   "id": "70b3da15",
   "metadata": {
    "slideshow": {
     "slide_type": "subslide"
    }
   },
   "source": [
    "## Background information\n",
    "\n",
    "- python is dynamically typed -> no strict type enforcement\n",
    "- **Duck Typing:** \"If it walks like a duck and it quacks like a duck, then it must be a duck\""
   ]
  },
  {
   "cell_type": "markdown",
   "id": "c7498645",
   "metadata": {
    "slideshow": {
     "slide_type": "subslide"
    }
   },
   "source": [
    "**Advantages**\n",
    "\n",
    "<div class=\"alert alert-block alert-success\"><b>    \n",
    "- easier to learn <br />\n",
    "- more readable / less verbose <br />\n",
    "- faster prototyping <br /></b></div>"
   ]
  },
  {
   "cell_type": "markdown",
   "id": "726d64be",
   "metadata": {
    "slideshow": {
     "slide_type": "fragment"
    }
   },
   "source": [
    "**Disadvantages**\n",
    "\n",
    "<div class=\"alert alert-block alert-danger\"><b>    \n",
    "- runtime errors instead of compile time errors <br />\n",
    "- less performance <br />\n",
    "- requires more intense testing to ensure correctness <br /></b></div>"
   ]
  },
  {
   "cell_type": "markdown",
   "id": "44ba4f1b",
   "metadata": {
    "slideshow": {
     "slide_type": "fragment"
    }
   },
   "source": [
    "#### -> Pydantic partially solves some of the disadvantages"
   ]
  },
  {
   "cell_type": "markdown",
   "id": "3a6e6ab3",
   "metadata": {
    "slideshow": {
     "slide_type": "slide"
    }
   },
   "source": [
    "# Why \"Sphinx\"?"
   ]
  },
  {
   "cell_type": "markdown",
   "id": "eb258807",
   "metadata": {
    "slideshow": {
     "slide_type": "subslide"
    }
   },
   "source": [
    "- optional, external package which is not part of core python\n",
    "- framework to create and auto-generate software documentation\n",
    "- handle source code and documentation in a single place without extra software"
   ]
  },
  {
   "cell_type": "markdown",
   "id": "4ea9cfbc",
   "metadata": {
    "slideshow": {
     "slide_type": "fragment"
    }
   },
   "source": [
    "#### Examples\n",
    "\n",
    "- [autodoc_pydantic](https://autodoc-pydantic.readthedocs.io/en/stable)\n",
    "- [pandas](https://pandas.pydata.org/docs/)"
   ]
  },
  {
   "cell_type": "markdown",
   "id": "30f69229",
   "metadata": {
    "slideshow": {
     "slide_type": "slide"
    }
   },
   "source": [
    "# Why \"Autodoc Pydantic\"?"
   ]
  },
  {
   "cell_type": "markdown",
   "id": "96c2463d",
   "metadata": {
    "slideshow": {
     "slide_type": "subslide"
    }
   },
   "source": [
    "**Auto-document code?**\n",
    "\n",
    "Source code typically contains lot of information that can be used to automatically generate documentation:\n",
    "\n",
    "  - package structure (directories, files)\n",
    "  - class hierarchies (inheritance)\n",
    "  - function signatures (parameters and return values)\n",
    "  - type annotations (string, int, structs...)\n",
    "  - doc strings (explicit documentation)"
   ]
  },
  {
   "cell_type": "markdown",
   "id": "f0aba42c",
   "metadata": {
    "slideshow": {
     "slide_type": "fragment"
    }
   },
   "source": [
    "**-> see this [example](https://autodoc-pydantic.readthedocs.io/en/stable/users/examples.html#default)**"
   ]
  },
  {
   "cell_type": "markdown",
   "id": "9640a093",
   "metadata": {
    "slideshow": {
     "slide_type": "subslide"
    }
   },
   "source": [
    "- standard `sphinx-autodoc` is not well suited for pydantic\n",
    "- it has no knowledge about `pydantic` specific concepts like validators and fields\n",
    "- `autodoc_pydantic` provides improved auto-documentation for pydantic models/settings"
   ]
  },
  {
   "cell_type": "markdown",
   "id": "495a0951",
   "metadata": {
    "slideshow": {
     "slide_type": "subslide"
    }
   },
   "source": [
    "## Notes regarding `autodoc_pydantic`\n",
    "\n",
    "- born out of frustration with lacking auto-doc support for pydantic in sphinx\n",
    "- first release by end of March 2021\n",
    "- eversince gained more and more popularity\n",
    "- see [github repo](https://github.com/mansenfranzen/autodoc_pydantic)"
   ]
  },
  {
   "cell_type": "markdown",
   "id": "07b15a84",
   "metadata": {
    "slideshow": {
     "slide_type": "slide"
    }
   },
   "source": [
    "# Why \"Best Practices\"?"
   ]
  },
  {
   "cell_type": "markdown",
   "id": "491af3d1",
   "metadata": {
    "slideshow": {
     "slide_type": "subslide"
    }
   },
   "source": [
    "- trust experience of experts unless you're an expert yourself\n",
    "- most likely the best choice in most of the cases\n",
    "- foster standardization to allow easy onboarding/exchangability\n",
    "- applies to all following concepts"
   ]
  },
  {
   "cell_type": "markdown",
   "id": "687d4a6a",
   "metadata": {
    "slideshow": {
     "slide_type": "subslide"
    }
   },
   "source": [
    "![docs](https://miro.medium.com/max/1400/1*hxVSpiIgZSmqHZhXdGcUQg.png)"
   ]
  },
  {
   "cell_type": "markdown",
   "id": "6cba6f4f",
   "metadata": {
    "slideshow": {
     "slide_type": "slide"
    }
   },
   "source": [
    "# Why \"Documentation\"?"
   ]
  },
  {
   "cell_type": "markdown",
   "id": "e2d75e05",
   "metadata": {
    "slideshow": {
     "slide_type": "subslide"
    }
   },
   "source": [
    "![docs](https://pics.me.me/thumb_ali-spittel-codeland-aspittel-why-would-you-ever-spend-minutes-reading-61089306.png)"
   ]
  },
  {
   "cell_type": "markdown",
   "id": "eb054db3",
   "metadata": {
    "slideshow": {
     "slide_type": "subslide"
    }
   },
   "source": [
    "![docs](https://pbs.twimg.com/media/E10ffa9X0AA4H2_.png)"
   ]
  },
  {
   "cell_type": "markdown",
   "id": "fb7981b4",
   "metadata": {
    "slideshow": {
     "slide_type": "subslide"
    }
   },
   "source": [
    "- onboard users & developers\n",
    "- provide knowledge base -> build up trust and compliance\n",
    "- make important knowledge explicit which is otherwise lost implicitly"
   ]
  },
  {
   "cell_type": "markdown",
   "id": "7750191f",
   "metadata": {
    "slideshow": {
     "slide_type": "slide"
    }
   },
   "source": [
    "# Why \"Version Control System\"?"
   ]
  },
  {
   "cell_type": "markdown",
   "id": "f380b083",
   "metadata": {
    "slideshow": {
     "slide_type": "subslide"
    }
   },
   "source": [
    "![docs](https://blog.pics.io/content/images/2020/07/image-146_optimized.png)"
   ]
  },
  {
   "cell_type": "markdown",
   "id": "503a2db6",
   "metadata": {
    "slideshow": {
     "slide_type": "subslide"
    }
   },
   "source": [
    "- make code modifications transparent along with descriptive messages -> see [example](https://github.com/mansenfranzen/autodoc_pydantic/pull/131/commits)"
   ]
  },
  {
   "cell_type": "markdown",
   "id": "2602d6d0",
   "metadata": {
    "slideshow": {
     "slide_type": "fragment"
    }
   },
   "source": [
    "- freeze certain state of software as releases/versions -> see [example](https://github.com/mansenfranzen/autodoc_pydantic/tags)"
   ]
  },
  {
   "cell_type": "markdown",
   "id": "79f5ea6d",
   "metadata": {
    "slideshow": {
     "slide_type": "fragment"
    }
   },
   "source": [
    "- provides transparency and reproducability to development process"
   ]
  },
  {
   "cell_type": "markdown",
   "id": "fe855ece",
   "metadata": {
    "slideshow": {
     "slide_type": "subslide"
    }
   },
   "source": [
    "- allow simultanuous code changes by multiple users"
   ]
  },
  {
   "cell_type": "markdown",
   "id": "3a6e45cb",
   "metadata": {
    "slideshow": {
     "slide_type": "fragment"
    }
   },
   "source": [
    "![docs](https://www.devguide.at/wp-content/uploads/2019/06/branch-1.png)"
   ]
  },
  {
   "cell_type": "markdown",
   "id": "b59b666e",
   "metadata": {
    "slideshow": {
     "slide_type": "slide"
    }
   },
   "source": [
    "# Why \"Testing\"?"
   ]
  },
  {
   "cell_type": "markdown",
   "id": "e4fb9cfd",
   "metadata": {
    "slideshow": {
     "slide_type": "subslide"
    }
   },
   "source": [
    "- manifest and ensure correct behavior of software\n",
    "- allow code improvements/changes without breaking (refactoring)\n",
    "- preventing bugs, reducing development costs and improving quality"
   ]
  },
  {
   "cell_type": "markdown",
   "id": "9bda0cca",
   "metadata": {
    "slideshow": {
     "slide_type": "subslide"
    }
   },
   "source": [
    "**calculator.py**\n",
    "\n",
    "```python\n",
    "def add(a: int, b: int) -> int:\n",
    "    return a + b\n",
    "\n",
    "```"
   ]
  },
  {
   "cell_type": "markdown",
   "id": "b632d0ac",
   "metadata": {
    "slideshow": {
     "slide_type": "fragment"
    }
   },
   "source": [
    "**test_calculator.py**\n",
    "\n",
    "```python\n",
    "from calculator import add\n",
    "\n",
    "def test_add():\n",
    "    assert add(1, 2) == 3\n",
    "    assert add(0, 0) == 0\n",
    "```"
   ]
  },
  {
   "cell_type": "markdown",
   "id": "fc1e795b",
   "metadata": {
    "slideshow": {
     "slide_type": "fragment"
    }
   },
   "source": [
    "**-> see [example](https://github.com/mansenfranzen/autodoc_pydantic/actions/runs/2456571869)**"
   ]
  },
  {
   "cell_type": "markdown",
   "id": "1714ccc1",
   "metadata": {
    "slideshow": {
     "slide_type": "subslide"
    }
   },
   "source": [
    "![docs](https://sumatosoft.com/wp-content/uploads/2022/03/5d9f156a931ebc4818f9c294_Artboard-1.png)"
   ]
  },
  {
   "cell_type": "markdown",
   "id": "fbc7d306",
   "metadata": {
    "slideshow": {
     "slide_type": "slide"
    }
   },
   "source": [
    "# Why \"Continuous Integration (CI)\"?"
   ]
  },
  {
   "cell_type": "markdown",
   "id": "e56559da",
   "metadata": {
    "slideshow": {
     "slide_type": "subslide"
    }
   },
   "source": [
    "![docs](https://flexagon.com/wp-content/uploads/2020/04/a-world-without-ci.cd-meme.jpg)"
   ]
  },
  {
   "cell_type": "markdown",
   "id": "cabaf485",
   "metadata": {
    "slideshow": {
     "slide_type": "subslide"
    }
   },
   "source": [
    "- continuously integrate/merge every code change into central repository\n",
    "- test often and early to quickly identify bugs\n",
    "- prevents complicated debugging for large code changes\n",
    "\n",
    "**-> see [example](https://github.com/mansenfranzen/autodoc_pydantic/pull/131)**"
   ]
  },
  {
   "cell_type": "markdown",
   "id": "c6a1b606",
   "metadata": {
    "slideshow": {
     "slide_type": "slide"
    }
   },
   "source": [
    "# Why \"Continuous Delivery (CD)\"?"
   ]
  },
  {
   "cell_type": "markdown",
   "id": "aebb0237",
   "metadata": {
    "slideshow": {
     "slide_type": "subslide"
    }
   },
   "source": [
    "- continuously deliver/release new versions frequently\n",
    "- providing small releases allow quick response cycles\n",
    "- fosters fast integration of user feedback\n",
    "\n",
    "**-> see [example](https://github.com/mansenfranzen/autodoc_pydantic/actions/runs/2484422455)**"
   ]
  },
  {
   "cell_type": "markdown",
   "id": "f87fda72",
   "metadata": {
    "slideshow": {
     "slide_type": "slide"
    }
   },
   "source": [
    "# Why \"Semantic Versioning\"?"
   ]
  },
  {
   "cell_type": "markdown",
   "id": "e4203c2a",
   "metadata": {
    "slideshow": {
     "slide_type": "subslide"
    }
   },
   "source": [
    "- a version specifies a fixed/frozen state of software\n",
    "- semantic versioning provides guarantees with used version specifiers"
   ]
  },
  {
   "cell_type": "markdown",
   "id": "69588688",
   "metadata": {
    "slideshow": {
     "slide_type": "subslide"
    }
   },
   "source": [
    "![docs](https://miro.medium.com/max/1200/1*D4qTulg6C7nGLltjtAJ5YA.png)"
   ]
  },
  {
   "cell_type": "markdown",
   "id": "3bbabbe4",
   "metadata": {
    "slideshow": {
     "slide_type": "slide"
    }
   },
   "source": [
    "# Why \"Changelog\"?"
   ]
  },
  {
   "cell_type": "markdown",
   "id": "1f614e2b",
   "metadata": {
    "slideshow": {
     "slide_type": "subslide"
    }
   },
   "source": [
    "- provide detailed description of changes shipped along with every release\n",
    "- serves as an overview to quickly identify relevant changes between versions\n",
    "- includes features, bugfixes, testing, documentation, internal changes & contributors\n",
    "\n",
    "**-> see [example](https://autodoc-pydantic.readthedocs.io/en/stable/reference/changelog.html)**"
   ]
  },
  {
   "cell_type": "markdown",
   "id": "d4b0e9b9",
   "metadata": {
    "slideshow": {
     "slide_type": "slide"
    }
   },
   "source": [
    "# Any questions?"
   ]
  },
  {
   "cell_type": "markdown",
   "id": "0d8abdd6",
   "metadata": {
    "slideshow": {
     "slide_type": "subslide"
    }
   },
   "source": [
    "# Stay tuned\n",
    "\n",
    "- [repo autodoc_pydantic](https://github.com/mansenfranzen/autodoc_pydantic)\n",
    "- [repo presentation](https://github.com/mansenfranzen/presentation_software_engineering_concepts)"
   ]
  }
 ],
 "metadata": {
  "celltoolbar": "Slideshow",
  "kernelspec": {
   "display_name": "presi_open_source",
   "language": "python",
   "name": "presi_open_source"
  },
  "language_info": {
   "codemirror_mode": {
    "name": "ipython",
    "version": 3
   },
   "file_extension": ".py",
   "mimetype": "text/x-python",
   "name": "python",
   "nbconvert_exporter": "python",
   "pygments_lexer": "ipython3",
   "version": "3.7.9"
  }
 },
 "nbformat": 4,
 "nbformat_minor": 5
}
